{
 "cells": [
  {
   "cell_type": "code",
   "execution_count": 29,
   "id": "expected-heavy",
   "metadata": {},
   "outputs": [
    {
     "name": "stdout",
     "output_type": "stream",
     "text": [
      "Requirement already satisfied: stockfish in /home/ada/pythonJupyter/jupyterenvironment/lib/python3.8/site-packages (3.17.0)\n",
      "\u001b[33mWARNING: You are using pip version 21.2.2; however, version 21.2.4 is available.\n",
      "You should consider upgrading via the '/home/ada/pythonJupyter/jupyterenvironment/bin/python -m pip install --upgrade pip' command.\u001b[0m\n"
     ]
    }
   ],
   "source": [
    "!pip install stockfish\n",
    "import tensorflow as tf\n",
    "import re\n",
    "import chess\n",
    "from stockfish import Stockfish\n",
    "import numpy as np\n",
    "import pandas as pd\n",
    "import chess_funcs as chess_funcs\n",
    "import random\n",
    "import matplotlib.pyplot as plt"
   ]
  },
  {
   "cell_type": "markdown",
   "id": "closing-halifax",
   "metadata": {},
   "source": [
    "## Overview\n",
    "\n",
    "The purpose of this notebook is to compare the recommendations provided by application against the ratings provided by stock fish.\n",
    "\n",
    "The game data used here was taken from the FICS database for the year 2018."
   ]
  },
  {
   "cell_type": "markdown",
   "id": "emerging-strength",
   "metadata": {},
   "source": [
    "## Read in Game Data and Model"
   ]
  },
  {
   "cell_type": "code",
   "execution_count": 2,
   "id": "instructional-kennedy",
   "metadata": {},
   "outputs": [],
   "source": [
    "def readFile(file_name):\n",
    "    chess_list = []\n",
    "    chess_game = {}\n",
    "    with open(file_name) as f:\n",
    "        for index, line in enumerate(f):\n",
    "            \n",
    "            line = line.strip()\n",
    "            if len(line) == 0:\n",
    "                continue\n",
    "            if line[0] == '[':\n",
    "                line = line.replace('[', '')\n",
    "                line = line.replace(']', '')\n",
    "                line = line.replace('\"', '')\n",
    "                \n",
    "                key,value = line.split(' ', 1)\n",
    "                chess_game[key] = value\n",
    "            elif line[0] == '1':\n",
    "                line = re.sub('\\d*\\.', ':', line).strip()\n",
    "                chess_game['game'] = line.split(\":\")[1:]\n",
    "                chess_list.append(chess_game)\n",
    "                chess_game = {}\n",
    "    return chess_list\n",
    "chess_data = readFile('2018')\n",
    "chess_data_cleaned = []\n",
    "for game in chess_data:\n",
    "    if len(game['Result']) == 3:\n",
    "        chess_data_cleaned.append(game)\n",
    "chess_list = chess_data_cleaned"
   ]
  },
  {
   "cell_type": "markdown",
   "id": "comparable-envelope",
   "metadata": {},
   "source": [
    "Next proces the game data to be a list of game moves in UCI notation"
   ]
  },
  {
   "cell_type": "code",
   "execution_count": 3,
   "id": "million-range",
   "metadata": {},
   "outputs": [],
   "source": [
    "game_stack = []\n",
    "for game in chess_list:\n",
    "    board = chess.Board()\n",
    "    for turn in game['game']:\n",
    "        if turn.find(\"{\") != -1:\n",
    "            continue\n",
    "        turn = turn.strip()\n",
    "        turn = turn.split(\" \")\n",
    "        if len(turn) > 1:\n",
    "            board.push_san(turn[0])\n",
    "            board.push_san(turn[1])\n",
    "        elif len(turn) == 1:\n",
    "            board.push_san(turn[0])\n",
    "    game_stack.append(board.move_stack)"
   ]
  },
  {
   "cell_type": "code",
   "execution_count": 4,
   "id": "overhead-jerusalem",
   "metadata": {},
   "outputs": [
    {
     "data": {
      "text/plain": [
       "66393"
      ]
     },
     "execution_count": 4,
     "metadata": {},
     "output_type": "execute_result"
    }
   ],
   "source": [
    "len(game_stack)"
   ]
  },
  {
   "cell_type": "markdown",
   "id": "functioning-speaking",
   "metadata": {},
   "source": [
    "## Instantiate Stockfish and ML Model"
   ]
  },
  {
   "cell_type": "code",
   "execution_count": 5,
   "id": "considered-drilling",
   "metadata": {},
   "outputs": [],
   "source": [
    "stockfish = Stockfish('/usr/games/stockfish')\n",
    "stockfish = Stockfish(parameters={\"Threads\": 2, \"Minimum Thinking Time\": 30})\n",
    "model = tf.keras.models.load_model('chess_10000_10_redux.h5')"
   ]
  },
  {
   "cell_type": "markdown",
   "id": "copyrighted-certificate",
   "metadata": {},
   "source": [
    "Convert the UCI moves from a chess move object to a string. Both Chess and Stockfish understand strings containing UCI moves."
   ]
  },
  {
   "cell_type": "code",
   "execution_count": 6,
   "id": "artistic-coral",
   "metadata": {},
   "outputs": [],
   "source": [
    "##convert games to text:\n",
    "for x in range(0, len(game_stack)):\n",
    "    for y in range(0, len(game_stack[x])):\n",
    "        game_stack[x][y] = str(game_stack[x][y])"
   ]
  },
  {
   "cell_type": "code",
   "execution_count": 7,
   "id": "latter-dutch",
   "metadata": {
    "scrolled": true
   },
   "outputs": [
    {
     "name": "stdout",
     "output_type": "stream",
     "text": [
      "1\n",
      "2\n",
      "3\n",
      "4\n",
      "5\n",
      "6\n",
      "7\n",
      "8\n",
      "9\n",
      "10\n",
      "11\n",
      "12\n",
      "13\n",
      "14\n",
      "15\n",
      "16\n",
      "17\n",
      "18\n",
      "19\n",
      "20\n",
      "21\n",
      "22\n",
      "23\n",
      "24\n",
      "25\n",
      "26\n",
      "27\n",
      "28\n",
      "29\n",
      "30\n",
      "31\n",
      "32\n",
      "33\n",
      "34\n",
      "35\n",
      "36\n",
      "37\n",
      "38\n",
      "39\n",
      "40\n",
      "41\n",
      "42\n",
      "43\n",
      "44\n",
      "45\n",
      "46\n",
      "47\n",
      "48\n",
      "49\n",
      "50\n",
      "51\n",
      "52\n",
      "53\n",
      "54\n",
      "55\n",
      "56\n",
      "57\n",
      "58\n",
      "59\n",
      "60\n",
      "61\n",
      "62\n",
      "63\n",
      "64\n",
      "65\n",
      "66\n",
      "67\n",
      "68\n",
      "69\n",
      "70\n",
      "71\n",
      "72\n",
      "73\n",
      "74\n",
      "75\n",
      "76\n",
      "77\n",
      "78\n",
      "79\n",
      "80\n",
      "81\n",
      "82\n",
      "83\n",
      "84\n",
      "85\n",
      "86\n",
      "87\n",
      "88\n",
      "89\n",
      "90\n",
      "91\n",
      "92\n",
      "93\n",
      "94\n",
      "95\n",
      "96\n",
      "97\n",
      "98\n",
      "99\n",
      "100\n",
      "101\n",
      "102\n",
      "103\n",
      "104\n",
      "105\n",
      "106\n",
      "107\n",
      "108\n",
      "109\n",
      "110\n",
      "111\n",
      "112\n",
      "113\n",
      "114\n",
      "115\n",
      "116\n",
      "117\n",
      "118\n",
      "119\n",
      "120\n",
      "121\n",
      "122\n",
      "123\n",
      "124\n",
      "125\n",
      "126\n",
      "127\n",
      "128\n",
      "129\n",
      "130\n",
      "131\n",
      "132\n",
      "133\n",
      "134\n",
      "135\n",
      "136\n",
      "137\n",
      "138\n",
      "139\n",
      "140\n",
      "141\n",
      "142\n",
      "143\n",
      "144\n",
      "145\n",
      "146\n",
      "147\n",
      "148\n",
      "149\n",
      "150\n",
      "151\n",
      "152\n",
      "153\n",
      "154\n",
      "155\n",
      "156\n",
      "157\n",
      "158\n",
      "159\n",
      "160\n",
      "161\n",
      "162\n",
      "163\n",
      "164\n",
      "165\n",
      "166\n",
      "167\n",
      "168\n",
      "169\n",
      "170\n",
      "171\n",
      "172\n",
      "173\n",
      "174\n",
      "175\n",
      "176\n",
      "177\n",
      "178\n",
      "179\n",
      "180\n",
      "181\n",
      "182\n",
      "183\n",
      "184\n",
      "185\n",
      "186\n",
      "187\n",
      "188\n",
      "189\n",
      "190\n",
      "191\n",
      "192\n",
      "193\n",
      "194\n",
      "195\n",
      "196\n",
      "197\n",
      "198\n",
      "199\n",
      "200\n",
      "201\n",
      "202\n",
      "203\n",
      "204\n",
      "205\n",
      "206\n",
      "207\n",
      "208\n",
      "209\n",
      "210\n",
      "211\n",
      "212\n",
      "213\n",
      "214\n",
      "215\n",
      "216\n",
      "217\n",
      "218\n",
      "219\n",
      "220\n",
      "221\n",
      "222\n",
      "223\n",
      "224\n",
      "225\n",
      "226\n",
      "227\n",
      "228\n",
      "229\n",
      "230\n",
      "231\n",
      "232\n",
      "233\n",
      "234\n",
      "235\n",
      "236\n",
      "237\n",
      "238\n",
      "239\n",
      "240\n"
     ]
    }
   ],
   "source": [
    "performance = pd.DataFrame(columns=['pressure_cp',\n",
    "                                    'ml_cp',\n",
    "                                    'stockfish_cp',\n",
    "                                    'stockfish1400_cp',\n",
    "                                    'stockfish800_cp',\n",
    "                                    'random_cp',\n",
    "                                   'player'])\n",
    "count = 0\n",
    "for game in game_stack[0:(60*4)]:\n",
    "    count +=1\n",
    "    player = 'W'\n",
    "    stockfish = Stockfish('/usr/games/stockfish')\n",
    "    for move in range(0, len(game)):\n",
    "        board = chess.Board()\n",
    "        for step in range(0,move):\n",
    "            board.push_uci(game[step])\n",
    "        if move % 2 == 0:\n",
    "            player = 'W'\n",
    "        else:\n",
    "            player = 'B'\n",
    "        positions = chess_funcs.translate(str(board))\n",
    "        if player == 'W':\n",
    "            press, press_val, ml, ml_val = chess_funcs.recommend_white(chess_funcs.create_board_from_positions(positions), model)\n",
    "        else:\n",
    "            press, press_val, ml, ml_val = chess_funcs.recommend_black(chess_funcs.create_board_from_positions(positions), model)\n",
    "        #print(move)\n",
    "        #print(stockfish.get_best_move())\n",
    "        stockfish = Stockfish('/usr/games/stockfish')\n",
    "        stockfish.set_position(game[0:move])\n",
    "        best = stockfish.get_best_move()\n",
    "        stockfish = Stockfish('/usr/games/stockfish')\n",
    "        stockfish.set_position(game[0:move] + [best])\n",
    "        #print(stockfish.get_board_visual())\n",
    "        stockfish_recommendation_cp = stockfish.get_evaluation()['value']  \n",
    "        #print(press)\n",
    "        stockfish = Stockfish('/usr/games/stockfish')\n",
    "        stockfish.set_position(game[0:move] + [press])\n",
    "        #print(stockfish.get_board_visual())\n",
    "        pressure_recommendation_cp = stockfish.get_evaluation()['value']\n",
    "        stockfish = Stockfish('/usr/games/stockfish')\n",
    "        stockfish.set_position(game[0:move] + [ml])\n",
    "        #print(ml)\n",
    "        #print(stockfish.get_board_visual())\n",
    "        ml_recommendation_cp = stockfish.get_evaluation()['value']\n",
    "        legal_moves = []\n",
    "        for san in board.legal_moves:\n",
    "            legal_moves.append(str(san))\n",
    "        random_move = legal_moves[random.randint(0,len(legal_moves)-1)]\n",
    "        #print(random_move)\n",
    "        stockfish = Stockfish('/usr/games/stockfish')\n",
    "        stockfish.set_position(game[0:move] + [str(random_move)])\n",
    "        #print(stockfish.get_board_visual())\n",
    "        random_cp = stockfish.get_evaluation()['value']\n",
    "\n",
    "        stockfish1400 = Stockfish('/usr/games/stockfish')\n",
    "        stockfish1400.set_elo_rating(1400)\n",
    "        stockfish1400.set_position(game[0:move])\n",
    "        best = stockfish1400.get_best_move()\n",
    "        stockfish = Stockfish('/usr/games/stockfish')\n",
    "        stockfish.set_position(game[0:move] + [best])\n",
    "        stockfish1400_recommendation_cp = stockfish.get_evaluation()['value']  \n",
    "\n",
    "        stockfish800 = Stockfish('/usr/games/stockfish')\n",
    "        stockfish800.set_elo_rating(800)\n",
    "        stockfish800.set_position(game[0:move])\n",
    "        best = stockfish800.get_best_move()\n",
    "        stockfish = Stockfish('/usr/games/stockfish')\n",
    "        stockfish.set_position(game[0:move] + [best])\n",
    "        stockfish800_recommendation_cp = stockfish.get_evaluation()['value']  \n",
    "\n",
    "\n",
    "        metrics = {\n",
    "        'pressure_cp':pressure_recommendation_cp,\n",
    "        'ml_cp': ml_recommendation_cp,\n",
    "        'stockfish_cp':stockfish_recommendation_cp,\n",
    "        'stockfish1400_cp':stockfish1400_recommendation_cp,\n",
    "        'stockfish800_cp':stockfish800_recommendation_cp,\n",
    "        'random_cp': random_cp,\n",
    "        'player': player}\n",
    "        performance = performance.append(metrics, ignore_index = True)\n"
   ]
  },
  {
   "cell_type": "code",
   "execution_count": 11,
   "id": "knowing-hardware",
   "metadata": {},
   "outputs": [
    {
     "data": {
      "text/html": [
       "<div>\n",
       "<style scoped>\n",
       "    .dataframe tbody tr th:only-of-type {\n",
       "        vertical-align: middle;\n",
       "    }\n",
       "\n",
       "    .dataframe tbody tr th {\n",
       "        vertical-align: top;\n",
       "    }\n",
       "\n",
       "    .dataframe thead th {\n",
       "        text-align: right;\n",
       "    }\n",
       "</style>\n",
       "<table border=\"1\" class=\"dataframe\">\n",
       "  <thead>\n",
       "    <tr style=\"text-align: right;\">\n",
       "      <th></th>\n",
       "      <th>pressure_cp</th>\n",
       "      <th>ml_cp</th>\n",
       "      <th>stockfish_cp</th>\n",
       "      <th>stockfish1400_cp</th>\n",
       "      <th>stockfish800_cp</th>\n",
       "      <th>random_cp</th>\n",
       "      <th>player</th>\n",
       "    </tr>\n",
       "  </thead>\n",
       "  <tbody>\n",
       "    <tr>\n",
       "      <th>0</th>\n",
       "      <td>-7</td>\n",
       "      <td>-93</td>\n",
       "      <td>0</td>\n",
       "      <td>-28</td>\n",
       "      <td>-7</td>\n",
       "      <td>-93</td>\n",
       "      <td>W</td>\n",
       "    </tr>\n",
       "    <tr>\n",
       "      <th>1</th>\n",
       "      <td>148</td>\n",
       "      <td>154</td>\n",
       "      <td>53</td>\n",
       "      <td>29</td>\n",
       "      <td>29</td>\n",
       "      <td>53</td>\n",
       "      <td>B</td>\n",
       "    </tr>\n",
       "    <tr>\n",
       "      <th>2</th>\n",
       "      <td>-62</td>\n",
       "      <td>-124</td>\n",
       "      <td>41</td>\n",
       "      <td>-40</td>\n",
       "      <td>-37</td>\n",
       "      <td>-99</td>\n",
       "      <td>W</td>\n",
       "    </tr>\n",
       "    <tr>\n",
       "      <th>3</th>\n",
       "      <td>556</td>\n",
       "      <td>176</td>\n",
       "      <td>-16</td>\n",
       "      <td>61</td>\n",
       "      <td>61</td>\n",
       "      <td>105</td>\n",
       "      <td>B</td>\n",
       "    </tr>\n",
       "    <tr>\n",
       "      <th>4</th>\n",
       "      <td>-42</td>\n",
       "      <td>-42</td>\n",
       "      <td>-6</td>\n",
       "      <td>-261</td>\n",
       "      <td>17</td>\n",
       "      <td>-75</td>\n",
       "      <td>W</td>\n",
       "    </tr>\n",
       "  </tbody>\n",
       "</table>\n",
       "</div>"
      ],
      "text/plain": [
       "  pressure_cp ml_cp stockfish_cp stockfish1400_cp stockfish800_cp random_cp  \\\n",
       "0          -7   -93            0              -28              -7       -93   \n",
       "1         148   154           53               29              29        53   \n",
       "2         -62  -124           41              -40             -37       -99   \n",
       "3         556   176          -16               61              61       105   \n",
       "4         -42   -42           -6             -261              17       -75   \n",
       "\n",
       "  player  \n",
       "0      W  \n",
       "1      B  \n",
       "2      W  \n",
       "3      B  \n",
       "4      W  "
      ]
     },
     "execution_count": 11,
     "metadata": {},
     "output_type": "execute_result"
    }
   ],
   "source": [
    "performance.head(5)"
   ]
  },
  {
   "cell_type": "markdown",
   "id": "provincial-nowhere",
   "metadata": {},
   "source": [
    "Calculate the differences between the Centipawn evaluation of the moves chosen by the pressure recommender, the model recommender, a stockfish at elo 1400, a stockfish at elo 800, and a random move."
   ]
  },
  {
   "cell_type": "code",
   "execution_count": 16,
   "id": "steady-insider",
   "metadata": {},
   "outputs": [],
   "source": [
    "performance.insert(1, column='pressure_stock_diff', value= performance.pressure_cp.values -  performance.stockfish_cp.values)"
   ]
  },
  {
   "cell_type": "code",
   "execution_count": 20,
   "id": "higher-health",
   "metadata": {},
   "outputs": [],
   "source": [
    "performance.insert(1, column='ml_stock_diff', value= performance.ml_cp.values -  performance.stockfish_cp.values)"
   ]
  },
  {
   "cell_type": "code",
   "execution_count": 21,
   "id": "productive-robinson",
   "metadata": {},
   "outputs": [],
   "source": [
    "performance.insert(1, column='stockfish1400_stock_diff', value= performance.stockfish1400_cp.values -  performance.stockfish_cp.values)"
   ]
  },
  {
   "cell_type": "code",
   "execution_count": 22,
   "id": "decreased-format",
   "metadata": {},
   "outputs": [],
   "source": [
    "performance.insert(1, column='stockfish800_stock_diff', value= performance.stockfish800_cp.values -  performance.stockfish_cp.values)"
   ]
  },
  {
   "cell_type": "code",
   "execution_count": 23,
   "id": "determined-wheat",
   "metadata": {},
   "outputs": [],
   "source": [
    "performance.insert(1, column='random_stock_diff', value= performance.random_cp.values -  performance.stockfish_cp.values)"
   ]
  },
  {
   "cell_type": "code",
   "execution_count": 24,
   "id": "african-apollo",
   "metadata": {},
   "outputs": [
    {
     "data": {
      "text/html": [
       "<div>\n",
       "<style scoped>\n",
       "    .dataframe tbody tr th:only-of-type {\n",
       "        vertical-align: middle;\n",
       "    }\n",
       "\n",
       "    .dataframe tbody tr th {\n",
       "        vertical-align: top;\n",
       "    }\n",
       "\n",
       "    .dataframe thead th {\n",
       "        text-align: right;\n",
       "    }\n",
       "</style>\n",
       "<table border=\"1\" class=\"dataframe\">\n",
       "  <thead>\n",
       "    <tr style=\"text-align: right;\">\n",
       "      <th></th>\n",
       "      <th>pressure_cp</th>\n",
       "      <th>random_stock_diff</th>\n",
       "      <th>stockfish800_stock_diff</th>\n",
       "      <th>stockfish1400_stock_diff</th>\n",
       "      <th>ml_stock_diff</th>\n",
       "      <th>pressure_stock_diff</th>\n",
       "      <th>ml_cp</th>\n",
       "      <th>stockfish_cp</th>\n",
       "      <th>stockfish1400_cp</th>\n",
       "      <th>stockfish800_cp</th>\n",
       "      <th>random_cp</th>\n",
       "      <th>player</th>\n",
       "    </tr>\n",
       "  </thead>\n",
       "  <tbody>\n",
       "    <tr>\n",
       "      <th>0</th>\n",
       "      <td>-7</td>\n",
       "      <td>-93</td>\n",
       "      <td>-7</td>\n",
       "      <td>-28</td>\n",
       "      <td>-93</td>\n",
       "      <td>-7</td>\n",
       "      <td>-93</td>\n",
       "      <td>0</td>\n",
       "      <td>-28</td>\n",
       "      <td>-7</td>\n",
       "      <td>-93</td>\n",
       "      <td>W</td>\n",
       "    </tr>\n",
       "    <tr>\n",
       "      <th>1</th>\n",
       "      <td>148</td>\n",
       "      <td>0</td>\n",
       "      <td>-24</td>\n",
       "      <td>-24</td>\n",
       "      <td>101</td>\n",
       "      <td>95</td>\n",
       "      <td>154</td>\n",
       "      <td>53</td>\n",
       "      <td>29</td>\n",
       "      <td>29</td>\n",
       "      <td>53</td>\n",
       "      <td>B</td>\n",
       "    </tr>\n",
       "    <tr>\n",
       "      <th>2</th>\n",
       "      <td>-62</td>\n",
       "      <td>-140</td>\n",
       "      <td>-78</td>\n",
       "      <td>-81</td>\n",
       "      <td>-165</td>\n",
       "      <td>-103</td>\n",
       "      <td>-124</td>\n",
       "      <td>41</td>\n",
       "      <td>-40</td>\n",
       "      <td>-37</td>\n",
       "      <td>-99</td>\n",
       "      <td>W</td>\n",
       "    </tr>\n",
       "    <tr>\n",
       "      <th>3</th>\n",
       "      <td>556</td>\n",
       "      <td>121</td>\n",
       "      <td>77</td>\n",
       "      <td>77</td>\n",
       "      <td>192</td>\n",
       "      <td>572</td>\n",
       "      <td>176</td>\n",
       "      <td>-16</td>\n",
       "      <td>61</td>\n",
       "      <td>61</td>\n",
       "      <td>105</td>\n",
       "      <td>B</td>\n",
       "    </tr>\n",
       "    <tr>\n",
       "      <th>4</th>\n",
       "      <td>-42</td>\n",
       "      <td>-69</td>\n",
       "      <td>23</td>\n",
       "      <td>-255</td>\n",
       "      <td>-36</td>\n",
       "      <td>-36</td>\n",
       "      <td>-42</td>\n",
       "      <td>-6</td>\n",
       "      <td>-261</td>\n",
       "      <td>17</td>\n",
       "      <td>-75</td>\n",
       "      <td>W</td>\n",
       "    </tr>\n",
       "  </tbody>\n",
       "</table>\n",
       "</div>"
      ],
      "text/plain": [
       "  pressure_cp random_stock_diff stockfish800_stock_diff  \\\n",
       "0          -7               -93                      -7   \n",
       "1         148                 0                     -24   \n",
       "2         -62              -140                     -78   \n",
       "3         556               121                      77   \n",
       "4         -42               -69                      23   \n",
       "\n",
       "  stockfish1400_stock_diff ml_stock_diff pressure_stock_diff ml_cp  \\\n",
       "0                      -28           -93                  -7   -93   \n",
       "1                      -24           101                  95   154   \n",
       "2                      -81          -165                -103  -124   \n",
       "3                       77           192                 572   176   \n",
       "4                     -255           -36                 -36   -42   \n",
       "\n",
       "  stockfish_cp stockfish1400_cp stockfish800_cp random_cp player  \n",
       "0            0              -28              -7       -93      W  \n",
       "1           53               29              29        53      B  \n",
       "2           41              -40             -37       -99      W  \n",
       "3          -16               61              61       105      B  \n",
       "4           -6             -261              17       -75      W  "
      ]
     },
     "execution_count": 24,
     "metadata": {},
     "output_type": "execute_result"
    }
   ],
   "source": [
    "performance.head()"
   ]
  },
  {
   "cell_type": "markdown",
   "id": "egyptian-anderson",
   "metadata": {},
   "source": [
    "Next convert the stockfish differences to positive numbers"
   ]
  },
  {
   "cell_type": "code",
   "execution_count": 25,
   "id": "guided-pollution",
   "metadata": {},
   "outputs": [],
   "source": [
    "performance['random_stock_diff']= performance.apply(lambda x: abs(x['random_stock_diff']), axis = 1)"
   ]
  },
  {
   "cell_type": "code",
   "execution_count": 27,
   "id": "difficult-recorder",
   "metadata": {},
   "outputs": [
    {
     "data": {
      "text/html": [
       "<div>\n",
       "<style scoped>\n",
       "    .dataframe tbody tr th:only-of-type {\n",
       "        vertical-align: middle;\n",
       "    }\n",
       "\n",
       "    .dataframe tbody tr th {\n",
       "        vertical-align: top;\n",
       "    }\n",
       "\n",
       "    .dataframe thead th {\n",
       "        text-align: right;\n",
       "    }\n",
       "</style>\n",
       "<table border=\"1\" class=\"dataframe\">\n",
       "  <thead>\n",
       "    <tr style=\"text-align: right;\">\n",
       "      <th></th>\n",
       "      <th>pressure_cp</th>\n",
       "      <th>random_stock_diff</th>\n",
       "      <th>stockfish800_stock_diff</th>\n",
       "      <th>stockfish1400_stock_diff</th>\n",
       "      <th>ml_stock_diff</th>\n",
       "      <th>pressure_stock_diff</th>\n",
       "      <th>ml_cp</th>\n",
       "      <th>stockfish_cp</th>\n",
       "      <th>stockfish1400_cp</th>\n",
       "      <th>stockfish800_cp</th>\n",
       "      <th>random_cp</th>\n",
       "      <th>player</th>\n",
       "    </tr>\n",
       "  </thead>\n",
       "  <tbody>\n",
       "    <tr>\n",
       "      <th>0</th>\n",
       "      <td>-7</td>\n",
       "      <td>93</td>\n",
       "      <td>7</td>\n",
       "      <td>28</td>\n",
       "      <td>93</td>\n",
       "      <td>7</td>\n",
       "      <td>-93</td>\n",
       "      <td>0</td>\n",
       "      <td>-28</td>\n",
       "      <td>-7</td>\n",
       "      <td>-93</td>\n",
       "      <td>W</td>\n",
       "    </tr>\n",
       "    <tr>\n",
       "      <th>1</th>\n",
       "      <td>148</td>\n",
       "      <td>0</td>\n",
       "      <td>24</td>\n",
       "      <td>24</td>\n",
       "      <td>101</td>\n",
       "      <td>95</td>\n",
       "      <td>154</td>\n",
       "      <td>53</td>\n",
       "      <td>29</td>\n",
       "      <td>29</td>\n",
       "      <td>53</td>\n",
       "      <td>B</td>\n",
       "    </tr>\n",
       "    <tr>\n",
       "      <th>2</th>\n",
       "      <td>-62</td>\n",
       "      <td>140</td>\n",
       "      <td>78</td>\n",
       "      <td>81</td>\n",
       "      <td>165</td>\n",
       "      <td>103</td>\n",
       "      <td>-124</td>\n",
       "      <td>41</td>\n",
       "      <td>-40</td>\n",
       "      <td>-37</td>\n",
       "      <td>-99</td>\n",
       "      <td>W</td>\n",
       "    </tr>\n",
       "    <tr>\n",
       "      <th>3</th>\n",
       "      <td>556</td>\n",
       "      <td>121</td>\n",
       "      <td>77</td>\n",
       "      <td>77</td>\n",
       "      <td>192</td>\n",
       "      <td>572</td>\n",
       "      <td>176</td>\n",
       "      <td>-16</td>\n",
       "      <td>61</td>\n",
       "      <td>61</td>\n",
       "      <td>105</td>\n",
       "      <td>B</td>\n",
       "    </tr>\n",
       "    <tr>\n",
       "      <th>4</th>\n",
       "      <td>-42</td>\n",
       "      <td>69</td>\n",
       "      <td>23</td>\n",
       "      <td>255</td>\n",
       "      <td>36</td>\n",
       "      <td>36</td>\n",
       "      <td>-42</td>\n",
       "      <td>-6</td>\n",
       "      <td>-261</td>\n",
       "      <td>17</td>\n",
       "      <td>-75</td>\n",
       "      <td>W</td>\n",
       "    </tr>\n",
       "  </tbody>\n",
       "</table>\n",
       "</div>"
      ],
      "text/plain": [
       "  pressure_cp  random_stock_diff  stockfish800_stock_diff  \\\n",
       "0          -7                 93                        7   \n",
       "1         148                  0                       24   \n",
       "2         -62                140                       78   \n",
       "3         556                121                       77   \n",
       "4         -42                 69                       23   \n",
       "\n",
       "   stockfish1400_stock_diff  ml_stock_diff  pressure_stock_diff ml_cp  \\\n",
       "0                        28             93                    7   -93   \n",
       "1                        24            101                   95   154   \n",
       "2                        81            165                  103  -124   \n",
       "3                        77            192                  572   176   \n",
       "4                       255             36                   36   -42   \n",
       "\n",
       "  stockfish_cp stockfish1400_cp stockfish800_cp random_cp player  \n",
       "0            0              -28              -7       -93      W  \n",
       "1           53               29              29        53      B  \n",
       "2           41              -40             -37       -99      W  \n",
       "3          -16               61              61       105      B  \n",
       "4           -6             -261              17       -75      W  "
      ]
     },
     "execution_count": 27,
     "metadata": {},
     "output_type": "execute_result"
    }
   ],
   "source": [
    "performance['pressure_stock_diff']= performance.apply(lambda x: abs(x['pressure_stock_diff']), axis = 1)\n",
    "performance['stockfish800_stock_diff']= performance.apply(lambda x: abs(x['stockfish800_stock_diff']), axis = 1)\n",
    "performance['stockfish1400_stock_diff']= performance.apply(lambda x: abs(x['stockfish1400_stock_diff']), axis = 1)\n",
    "performance['ml_stock_diff']= performance.apply(lambda x: abs(x['ml_stock_diff']), axis = 1)\n",
    "performance.head()"
   ]
  },
  {
   "cell_type": "markdown",
   "id": "bright-climate",
   "metadata": {},
   "source": [
    "## Compare Centipawn Differences"
   ]
  },
  {
   "cell_type": "markdown",
   "id": "valued-anderson",
   "metadata": {},
   "source": [
    "### Random Moves"
   ]
  },
  {
   "cell_type": "code",
   "execution_count": 30,
   "id": "difficult-hospital",
   "metadata": {},
   "outputs": [
    {
     "data": {
      "text/plain": [
       "count    15092.000000\n",
       "mean       390.518884\n",
       "std        525.933915\n",
       "min          0.000000\n",
       "25%         68.000000\n",
       "50%        213.000000\n",
       "75%        533.000000\n",
       "max       7735.000000\n",
       "Name: random_stock_diff, dtype: float64"
      ]
     },
     "execution_count": 30,
     "metadata": {},
     "output_type": "execute_result"
    }
   ],
   "source": [
    "performance['random_stock_diff'].describe()"
   ]
  },
  {
   "cell_type": "code",
   "execution_count": 57,
   "id": "unsigned-highland",
   "metadata": {},
   "outputs": [
    {
     "data": {
      "image/png": "[encoded data removed]",
      "text/plain": [
       "<Figure size 432x288 with 1 Axes>"
      ]
     },
     "metadata": {
      "needs_background": "light"
     },
     "output_type": "display_data"
    }
   ],
   "source": [
    "plt.boxplot(performance['random_stock_diff'])\n",
    "plt.show()"
   ]
  },
  {
   "cell_type": "markdown",
   "id": "systematic-there",
   "metadata": {},
   "source": [
    "### Pressure Based Recommendation"
   ]
  },
  {
   "cell_type": "code",
   "execution_count": 41,
   "id": "particular-vehicle",
   "metadata": {},
   "outputs": [
    {
     "data": {
      "text/plain": [
       "count    15092.000000\n",
       "mean       420.389147\n",
       "std        540.073390\n",
       "min          0.000000\n",
       "25%         66.000000\n",
       "50%        247.000000\n",
       "75%        589.000000\n",
       "max       8312.000000\n",
       "Name: pressure_stock_diff, dtype: float64"
      ]
     },
     "execution_count": 41,
     "metadata": {},
     "output_type": "execute_result"
    }
   ],
   "source": [
    "performance['pressure_stock_diff'].describe()"
   ]
  },
  {
   "cell_type": "code",
   "execution_count": 54,
   "id": "twelve-success",
   "metadata": {},
   "outputs": [
    {
     "data": {
      "image/png": "[encoded data removed]",
      "text/plain": [
       "<Figure size 432x288 with 1 Axes>"
      ]
     },
     "metadata": {
      "needs_background": "light"
     },
     "output_type": "display_data"
    }
   ],
   "source": [
    "plt.boxplot(performance['pressure_stock_diff'])\n",
    "plt.show()"
   ]
  },
  {
   "cell_type": "markdown",
   "id": "structural-sound",
   "metadata": {},
   "source": [
    "### Model Based Recommendation"
   ]
  },
  {
   "cell_type": "code",
   "execution_count": 45,
   "id": "sapphire-excess",
   "metadata": {},
   "outputs": [
    {
     "data": {
      "text/plain": [
       "count    15092.000000\n",
       "mean       385.390936\n",
       "std        501.186249\n",
       "min          0.000000\n",
       "25%         73.000000\n",
       "50%        232.000000\n",
       "75%        529.000000\n",
       "max       8312.000000\n",
       "Name: ml_stock_diff, dtype: float64"
      ]
     },
     "execution_count": 45,
     "metadata": {},
     "output_type": "execute_result"
    }
   ],
   "source": [
    "performance['ml_stock_diff'].describe()"
   ]
  },
  {
   "cell_type": "code",
   "execution_count": 56,
   "id": "sharing-cherry",
   "metadata": {},
   "outputs": [
    {
     "data": {
      "image/png": "[encoded data removed]",
      "text/plain": [
       "<Figure size 432x288 with 1 Axes>"
      ]
     },
     "metadata": {
      "needs_background": "light"
     },
     "output_type": "display_data"
    }
   ],
   "source": [
    "plt.boxplot(performance['ml_stock_diff'])\n",
    "plt.show()"
   ]
  },
  {
   "cell_type": "markdown",
   "id": "labeled-honey",
   "metadata": {},
   "source": [
    "## Stockfish Elo 1400"
   ]
  },
  {
   "cell_type": "code",
   "execution_count": 62,
   "id": "regulation-settlement",
   "metadata": {},
   "outputs": [
    {
     "data": {
      "text/plain": [
       "count    15092.000000\n",
       "mean       121.180095\n",
       "std        290.571515\n",
       "min          0.000000\n",
       "25%          0.000000\n",
       "50%         25.000000\n",
       "75%        117.000000\n",
       "max       8312.000000\n",
       "Name: stockfish1400_stock_diff, dtype: float64"
      ]
     },
     "execution_count": 62,
     "metadata": {},
     "output_type": "execute_result"
    }
   ],
   "source": [
    "performance['stockfish1400_stock_diff'].describe()"
   ]
  },
  {
   "cell_type": "code",
   "execution_count": 63,
   "id": "quantitative-directory",
   "metadata": {},
   "outputs": [
    {
     "data": {
      "image/png": "[encoded data removed]",
      "text/plain": [
       "<Figure size 432x288 with 1 Axes>"
      ]
     },
     "metadata": {
      "needs_background": "light"
     },
     "output_type": "display_data"
    }
   ],
   "source": [
    "plt.boxplot(performance['stockfish1400_stock_diff'])\n",
    "plt.show()"
   ]
  },
  {
   "cell_type": "markdown",
   "id": "expected-reynolds",
   "metadata": {},
   "source": [
    "## Stockfish Elo 800"
   ]
  },
  {
   "cell_type": "code",
   "execution_count": 64,
   "id": "smart-bottom",
   "metadata": {},
   "outputs": [
    {
     "data": {
      "text/plain": [
       "count    15092.000000\n",
       "mean       125.281407\n",
       "std        304.448055\n",
       "min          0.000000\n",
       "25%          0.000000\n",
       "50%         27.000000\n",
       "75%        125.000000\n",
       "max       8311.000000\n",
       "Name: stockfish800_stock_diff, dtype: float64"
      ]
     },
     "execution_count": 64,
     "metadata": {},
     "output_type": "execute_result"
    }
   ],
   "source": [
    "performance['stockfish800_stock_diff'].describe()"
   ]
  },
  {
   "cell_type": "code",
   "execution_count": 66,
   "id": "listed-creativity",
   "metadata": {},
   "outputs": [
    {
     "data": {
      "image/png": "[encoded data removed]",
      "text/plain": [
       "<Figure size 432x288 with 1 Axes>"
      ]
     },
     "metadata": {
      "needs_background": "light"
     },
     "output_type": "display_data"
    }
   ],
   "source": [
    "plt.boxplot(performance['stockfish800_stock_diff'])\n",
    "plt.show()"
   ]
  },
  {
   "cell_type": "code",
   "execution_count": null,
   "id": "considered-purpose",
   "metadata": {},
   "outputs": [],
   "source": []
  }
 ],
 "metadata": {
  "kernelspec": {
   "display_name": "Python 3",
   "language": "python",
   "name": "python3"
  },
  "language_info": {
   "codemirror_mode": {
    "name": "ipython",
    "version": 3
   },
   "file_extension": ".py",
   "mimetype": "text/x-python",
   "name": "python",
   "nbconvert_exporter": "python",
   "pygments_lexer": "ipython3",
   "version": "3.8.10"
  }
 },
 "nbformat": 4,
 "nbformat_minor": 5
}
