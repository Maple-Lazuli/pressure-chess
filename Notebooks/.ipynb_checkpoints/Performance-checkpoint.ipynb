{
 "cells": [
  {
   "cell_type": "code",
   "execution_count": 42,
   "id": "expected-heavy",
   "metadata": {},
   "outputs": [
    {
     "name": "stdout",
     "output_type": "stream",
     "text": [
      "Requirement already satisfied: stockfish in /home/ada/pythonJupyter/jupyterenvironment/lib/python3.8/site-packages (3.17.0)\n",
      "\u001b[33mWARNING: You are using pip version 21.2.2; however, version 21.2.4 is available.\n",
      "You should consider upgrading via the '/home/ada/pythonJupyter/jupyterenvironment/bin/python -m pip install --upgrade pip' command.\u001b[0m\n"
     ]
    }
   ],
   "source": [
    "!pip install stockfish\n",
    "import tensorflow as tf\n",
    "import re\n",
    "import chess\n",
    "from stockfish import Stockfish\n",
    "import numpy as np\n",
    "import pandas as pd\n",
    "import chess_funcs as chess_funcs\n",
    "import random"
   ]
  },
  {
   "cell_type": "markdown",
   "id": "closing-halifax",
   "metadata": {},
   "source": [
    "## Overview\n",
    "\n",
    "The purpose of this notebook is to compare the recommendations provided by application against the ratings provided by stock fish."
   ]
  },
  {
   "cell_type": "markdown",
   "id": "emerging-strength",
   "metadata": {},
   "source": [
    "## Read in Game Data and Model"
   ]
  },
  {
   "cell_type": "code",
   "execution_count": 15,
   "id": "instructional-kennedy",
   "metadata": {},
   "outputs": [],
   "source": [
    "def readFile(file_name):\n",
    "    chess_list = []\n",
    "    chess_game = {}\n",
    "    with open(file_name) as f:\n",
    "        for index, line in enumerate(f):\n",
    "            \n",
    "            line = line.strip()\n",
    "            if len(line) == 0:\n",
    "                continue\n",
    "            if line[0] == '[':\n",
    "                line = line.replace('[', '')\n",
    "                line = line.replace(']', '')\n",
    "                line = line.replace('\"', '')\n",
    "                \n",
    "                key,value = line.split(' ', 1)\n",
    "                chess_game[key] = value\n",
    "            elif line[0] == '1':\n",
    "                line = re.sub('\\d*\\.', ':', line).strip()\n",
    "                chess_game['game'] = line.split(\":\")[1:]\n",
    "                chess_list.append(chess_game)\n",
    "                chess_game = {}\n",
    "    return chess_list\n",
    "chess_data = readFile('2018')\n",
    "chess_data_cleaned = []\n",
    "for game in chess_data:\n",
    "    if len(game['Result']) == 3:\n",
    "        chess_data_cleaned.append(game)\n",
    "chess_list = chess_data_cleaned"
   ]
  },
  {
   "cell_type": "markdown",
   "id": "comparable-envelope",
   "metadata": {},
   "source": [
    "Next proces the game data to be a list of game moves in UCI notation"
   ]
  },
  {
   "cell_type": "code",
   "execution_count": 16,
   "id": "million-range",
   "metadata": {},
   "outputs": [],
   "source": [
    "game_stack = []\n",
    "for game in chess_list:\n",
    "    board = chess.Board()\n",
    "    for turn in game['game']:\n",
    "        if turn.find(\"{\") != -1:\n",
    "            continue\n",
    "        turn = turn.strip()\n",
    "        turn = turn.split(\" \")\n",
    "        if len(turn) > 1:\n",
    "            board.push_san(turn[0])\n",
    "            board.push_san(turn[1])\n",
    "        elif len(turn) == 1:\n",
    "            board.push_san(turn[0])\n",
    "    game_stack.append(board.move_stack)"
   ]
  },
  {
   "cell_type": "code",
   "execution_count": 17,
   "id": "overhead-jerusalem",
   "metadata": {},
   "outputs": [
    {
     "data": {
      "text/plain": [
       "66393"
      ]
     },
     "execution_count": 17,
     "metadata": {},
     "output_type": "execute_result"
    }
   ],
   "source": [
    "len(game_stack)"
   ]
  },
  {
   "cell_type": "markdown",
   "id": "functioning-speaking",
   "metadata": {},
   "source": [
    "## Instantiate Stockfish and ML Model"
   ]
  },
  {
   "cell_type": "code",
   "execution_count": 29,
   "id": "considered-drilling",
   "metadata": {},
   "outputs": [],
   "source": [
    "stockfish = Stockfish('/usr/games/stockfish')\n",
    "stockfish = Stockfish(parameters={\"Threads\": 2, \"Minimum Thinking Time\": 30})\n",
    "model = tf.keras.models.load_model('chess_10000_10_redux.h5')"
   ]
  },
  {
   "cell_type": "markdown",
   "id": "copyrighted-certificate",
   "metadata": {},
   "source": [
    "Convert the UCI moves from a chess move object to a string. Both Chess and Stockfish understand strings containing UCI moves."
   ]
  },
  {
   "cell_type": "code",
   "execution_count": 30,
   "id": "artistic-coral",
   "metadata": {},
   "outputs": [],
   "source": [
    "##convert games to text:\n",
    "for x in range(0, len(game_stack)):\n",
    "    for y in range(0, len(game_stack[x])):\n",
    "        game_stack[x][y] = str(game_stack[x][y])"
   ]
  },
  {
   "cell_type": "code",
   "execution_count": 50,
   "id": "latter-dutch",
   "metadata": {},
   "outputs": [],
   "source": [
    "performance = pd.DataFrame(columns=['pressure_cp',\n",
    "                                    'ml_cp',\n",
    "                                    'stockfish_cp',\n",
    "                                    'random_cp',\n",
    "                                   'player'])\n",
    "game = game_stack[0]\n",
    "player = 'W'\n",
    "stockfish = Stockfish('/usr/games/stockfish')\n",
    "for move in range(0, len(game)-1):\n",
    "    board = chess.Board()\n",
    "    for step in range(0,move):\n",
    "        board.push_uci(game[step])\n",
    "    if move % 2 == 0:\n",
    "        player = 'W'\n",
    "    else:\n",
    "        player = 'B'\n",
    "    if player == 'W':\n",
    "        press, press_val, ml, ml_val = chess_funcs.recommend_white(board, model)\n",
    "    else:\n",
    "        press, press_val, ml, ml_val = chess_funcs.recommend_black(board, model)\n",
    "    stockfish.set_position(game[0:move] + [stockfish.get_best_move()])\n",
    "    stockfish_recommendation_cp = stockfish.get_evaluation()['value']  \n",
    "    stockfish.set_position(game[0:move] + [press])\n",
    "    pressure_recommendation_cp = stockfish.get_evaluation()['value']\n",
    "    stockfish.set_position(game[0:move] + [ml])\n",
    "    ml_recommendation_cp = stockfish.get_evaluation()['value']\n",
    "    legal_moves = []\n",
    "    for san in board.legal_moves:\n",
    "        legal_moves.append(str(san))\n",
    "    random_move = legal_moves[random.randint(0,len(legal_moves)-1)]\n",
    "    stockfish.set_position(game[0:move] + [str(random_move)])\n",
    "    random_cp = stockfish.get_evaluation()['value']\n",
    "    \n",
    "    metrics = {\n",
    "    'pressure_cp':pressure_recommendation_cp,\n",
    "    'ml_cp': ml_recommendation_cp,\n",
    "    'stockfish_cp':stockfish_recommendation_cp,\n",
    "    'random_cp': random_cp,\n",
    "    'player': player}\n",
    "    performance = performance.append(metrics, ignore_index = True)\n"
   ]
  },
  {
   "cell_type": "code",
   "execution_count": 51,
   "id": "knowing-hardware",
   "metadata": {},
   "outputs": [
    {
     "data": {
      "text/html": [
       "<div>\n",
       "<style scoped>\n",
       "    .dataframe tbody tr th:only-of-type {\n",
       "        vertical-align: middle;\n",
       "    }\n",
       "\n",
       "    .dataframe tbody tr th {\n",
       "        vertical-align: top;\n",
       "    }\n",
       "\n",
       "    .dataframe thead th {\n",
       "        text-align: right;\n",
       "    }\n",
       "</style>\n",
       "<table border=\"1\" class=\"dataframe\">\n",
       "  <thead>\n",
       "    <tr style=\"text-align: right;\">\n",
       "      <th></th>\n",
       "      <th>pressure_cp</th>\n",
       "      <th>ml_cp</th>\n",
       "      <th>stockfish_cp</th>\n",
       "      <th>random_cpplayer</th>\n",
       "      <th>player</th>\n",
       "      <th>random_cp</th>\n",
       "    </tr>\n",
       "  </thead>\n",
       "  <tbody>\n",
       "    <tr>\n",
       "      <th>0</th>\n",
       "      <td>-7</td>\n",
       "      <td>-93</td>\n",
       "      <td>0</td>\n",
       "      <td>NaN</td>\n",
       "      <td>W</td>\n",
       "      <td>102.0</td>\n",
       "    </tr>\n",
       "    <tr>\n",
       "      <th>1</th>\n",
       "      <td>148</td>\n",
       "      <td>154</td>\n",
       "      <td>-73</td>\n",
       "      <td>NaN</td>\n",
       "      <td>B</td>\n",
       "      <td>-73.0</td>\n",
       "    </tr>\n",
       "    <tr>\n",
       "      <th>2</th>\n",
       "      <td>-62</td>\n",
       "      <td>-124</td>\n",
       "      <td>76</td>\n",
       "      <td>NaN</td>\n",
       "      <td>W</td>\n",
       "      <td>76.0</td>\n",
       "    </tr>\n",
       "    <tr>\n",
       "      <th>3</th>\n",
       "      <td>556</td>\n",
       "      <td>176</td>\n",
       "      <td>41</td>\n",
       "      <td>NaN</td>\n",
       "      <td>B</td>\n",
       "      <td>41.0</td>\n",
       "    </tr>\n",
       "    <tr>\n",
       "      <th>4</th>\n",
       "      <td>-42</td>\n",
       "      <td>-42</td>\n",
       "      <td>150</td>\n",
       "      <td>NaN</td>\n",
       "      <td>W</td>\n",
       "      <td>150.0</td>\n",
       "    </tr>\n",
       "  </tbody>\n",
       "</table>\n",
       "</div>"
      ],
      "text/plain": [
       "  pressure_cp ml_cp stockfish_cp random_cpplayer player  random_cp\n",
       "0          -7   -93            0             NaN      W      102.0\n",
       "1         148   154          -73             NaN      B      -73.0\n",
       "2         -62  -124           76             NaN      W       76.0\n",
       "3         556   176           41             NaN      B       41.0\n",
       "4         -42   -42          150             NaN      W      150.0"
      ]
     },
     "execution_count": 51,
     "metadata": {},
     "output_type": "execute_result"
    }
   ],
   "source": [
    "performance.head(5)"
   ]
  },
  {
   "cell_type": "code",
   "execution_count": 22,
   "id": "hundred-income",
   "metadata": {},
   "outputs": [],
   "source": [
    "stockfish = Stockfish('/usr/games/stockfish')"
   ]
  },
  {
   "cell_type": "code",
   "execution_count": 23,
   "id": "brilliant-priority",
   "metadata": {},
   "outputs": [],
   "source": [
    "stockfish.set_position(['b2b3'] + ['e7e6'])"
   ]
  },
  {
   "cell_type": "code",
   "execution_count": 24,
   "id": "mysterious-journalist",
   "metadata": {},
   "outputs": [
    {
     "name": "stdout",
     "output_type": "stream",
     "text": [
      "+---+---+---+---+---+---+---+---+\n",
      "| r | n | b | q | k | b | n | r |\n",
      "+---+---+---+---+---+---+---+---+\n",
      "| p | p | p | p |   | p | p | p |\n",
      "+---+---+---+---+---+---+---+---+\n",
      "|   |   |   |   | p |   |   |   |\n",
      "+---+---+---+---+---+---+---+---+\n",
      "|   |   |   |   |   |   |   |   |\n",
      "+---+---+---+---+---+---+---+---+\n",
      "|   |   |   |   |   |   |   |   |\n",
      "+---+---+---+---+---+---+---+---+\n",
      "|   | P |   |   |   |   |   |   |\n",
      "+---+---+---+---+---+---+---+---+\n",
      "| P |   | P | P | P | P | P | P |\n",
      "+---+---+---+---+---+---+---+---+\n",
      "| R | N | B | Q | K | B | N | R |\n",
      "+---+---+---+---+---+---+---+---+\n",
      "\n"
     ]
    }
   ],
   "source": [
    "print(stockfish.get_board_visual())"
   ]
  },
  {
   "cell_type": "code",
   "execution_count": 25,
   "id": "affiliated-nevada",
   "metadata": {},
   "outputs": [
    {
     "name": "stdout",
     "output_type": "stream",
     "text": [
      "+---+---+---+---+---+---+---+---+\n",
      "| r | n | b | q | k | b | n | r |\n",
      "+---+---+---+---+---+---+---+---+\n",
      "|   | p | p | p | p | p | p | p |\n",
      "+---+---+---+---+---+---+---+---+\n",
      "| p |   |   |   |   |   |   |   |\n",
      "+---+---+---+---+---+---+---+---+\n",
      "|   |   |   |   |   |   |   |   |\n",
      "+---+---+---+---+---+---+---+---+\n",
      "|   |   |   |   |   |   |   |   |\n",
      "+---+---+---+---+---+---+---+---+\n",
      "|   | P |   |   |   |   |   |   |\n",
      "+---+---+---+---+---+---+---+---+\n",
      "| P |   | P | P | P | P | P | P |\n",
      "+---+---+---+---+---+---+---+---+\n",
      "| R | N | B | Q | K | B | N | R |\n",
      "+---+---+---+---+---+---+---+---+\n",
      "\n"
     ]
    }
   ],
   "source": [
    "stockfish.set_position(['b2b3'] + ['a7a6'])\n",
    "print(stockfish.get_board_visual())"
   ]
  },
  {
   "cell_type": "code",
   "execution_count": 14,
   "id": "collaborative-october",
   "metadata": {},
   "outputs": [
    {
     "data": {
      "text/plain": [
       "[{'Move': 'e2e3', 'Centipawn': 13, 'Mate': None},\n",
       " {'Move': 'e2e4', 'Centipawn': 13, 'Mate': None},\n",
       " {'Move': 'c1b2', 'Centipawn': -26, 'Mate': None},\n",
       " {'Move': 'd2d4', 'Centipawn': -48, 'Mate': None},\n",
       " {'Move': 'g1f3', 'Centipawn': -83, 'Mate': None}]"
      ]
     },
     "execution_count": 14,
     "metadata": {},
     "output_type": "execute_result"
    }
   ],
   "source": [
    "stockfish.get_top_moves()"
   ]
  },
  {
   "cell_type": "code",
   "execution_count": 7,
   "id": "chief-mongolia",
   "metadata": {},
   "outputs": [],
   "source": [
    "stockfish.make_moves_from_current_position('e7e6')"
   ]
  },
  {
   "cell_type": "code",
   "execution_count": 8,
   "id": "extended-membrane",
   "metadata": {},
   "outputs": [
    {
     "data": {
      "text/plain": [
       "[{'Move': 'e7e5', 'Centipawn': -63, 'Mate': None},\n",
       " {'Move': 'e7e6', 'Centipawn': -58, 'Mate': None},\n",
       " {'Move': 'd7d5', 'Centipawn': -22, 'Mate': None},\n",
       " {'Move': 'd7d6', 'Centipawn': -14, 'Mate': None},\n",
       " {'Move': 'b8c6', 'Centipawn': 15, 'Mate': None}]"
      ]
     },
     "execution_count": 8,
     "metadata": {},
     "output_type": "execute_result"
    }
   ],
   "source": [
    "stockfish.get_top_moves()"
   ]
  },
  {
   "cell_type": "code",
   "execution_count": 9,
   "id": "crazy-cornwall",
   "metadata": {},
   "outputs": [
    {
     "name": "stdout",
     "output_type": "stream",
     "text": [
      "+---+---+---+---+---+---+---+---+\n",
      "| r | n | b | q | k | b | n | r |\n",
      "+---+---+---+---+---+---+---+---+\n",
      "| p | p | p | p | p | p | p | p |\n",
      "+---+---+---+---+---+---+---+---+\n",
      "|   |   |   |   |   |   |   |   |\n",
      "+---+---+---+---+---+---+---+---+\n",
      "|   |   |   |   |   |   |   |   |\n",
      "+---+---+---+---+---+---+---+---+\n",
      "|   |   |   |   |   |   |   |   |\n",
      "+---+---+---+---+---+---+---+---+\n",
      "|   | P |   |   |   |   |   |   |\n",
      "+---+---+---+---+---+---+---+---+\n",
      "| P |   | P | P | P | P | P | P |\n",
      "+---+---+---+---+---+---+---+---+\n",
      "| R | N | B | Q | K | B | N | R |\n",
      "+---+---+---+---+---+---+---+---+\n",
      "\n"
     ]
    }
   ],
   "source": [
    "print(stockfish.get_board_visual())"
   ]
  },
  {
   "cell_type": "code",
   "execution_count": 10,
   "id": "cheap-leave",
   "metadata": {},
   "outputs": [
    {
     "data": {
      "text/plain": [
       "['b', 'c']"
      ]
     },
     "execution_count": 10,
     "metadata": {},
     "output_type": "execute_result"
    }
   ],
   "source": [
    "['b'] + ['c']"
   ]
  },
  {
   "cell_type": "code",
   "execution_count": 43,
   "id": "steady-insider",
   "metadata": {},
   "outputs": [],
   "source": []
  },
  {
   "cell_type": "code",
   "execution_count": 44,
   "id": "higher-health",
   "metadata": {},
   "outputs": [
    {
     "data": {
      "text/plain": [
       "'b2c3'"
      ]
     },
     "execution_count": 44,
     "metadata": {},
     "output_type": "execute_result"
    }
   ],
   "source": []
  },
  {
   "cell_type": "code",
   "execution_count": 46,
   "id": "productive-robinson",
   "metadata": {},
   "outputs": [
    {
     "data": {
      "text/plain": [
       "'b2a3'"
      ]
     },
     "execution_count": 46,
     "metadata": {},
     "output_type": "execute_result"
    }
   ],
   "source": []
  },
  {
   "cell_type": "code",
   "execution_count": null,
   "id": "decreased-format",
   "metadata": {},
   "outputs": [],
   "source": []
  }
 ],
 "metadata": {
  "kernelspec": {
   "display_name": "Python 3",
   "language": "python",
   "name": "python3"
  },
  "language_info": {
   "codemirror_mode": {
    "name": "ipython",
    "version": 3
   },
   "file_extension": ".py",
   "mimetype": "text/x-python",
   "name": "python",
   "nbconvert_exporter": "python",
   "pygments_lexer": "ipython3",
   "version": "3.8.10"
  }
 },
 "nbformat": 4,
 "nbformat_minor": 5
}
