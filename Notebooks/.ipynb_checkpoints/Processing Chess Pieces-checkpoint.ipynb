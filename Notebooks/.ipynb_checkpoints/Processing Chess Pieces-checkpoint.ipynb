{
 "cells": [
  {
   "cell_type": "code",
   "execution_count": 11,
   "id": "interesting-thumbnail",
   "metadata": {},
   "outputs": [
    {
     "ename": "SyntaxError",
     "evalue": "invalid syntax (<ipython-input-11-62abc8a631c0>, line 3)",
     "output_type": "error",
     "traceback": [
      "\u001b[0;36m  File \u001b[0;32m\"<ipython-input-11-62abc8a631c0>\"\u001b[0;36m, line \u001b[0;32m3\u001b[0m\n\u001b[0;31m    import 'pieces.py' as pieces\u001b[0m\n\u001b[0m           ^\u001b[0m\n\u001b[0;31mSyntaxError\u001b[0m\u001b[0;31m:\u001b[0m invalid syntax\n"
     ]
    }
   ],
   "source": [
    "import numpy as np\n",
    "import pandas as pd"
   ]
  },
  {
   "cell_type": "code",
   "execution_count": 12,
   "id": "revised-defensive",
   "metadata": {},
   "outputs": [],
   "source": [
    "#load a sample board\n",
    "sampleBoard = np.load('../backend/positions.npy')\n",
    "#board mappings\n",
    "pieces = {\n",
    "    '0': {\n",
    "        'name': 'Space'\n",
    "    },\n",
    "    '1': {\n",
    "        'name': 'Rook'\n",
    "    },\n",
    "    '2': {\n",
    "        'name': 'Knight'\n",
    "    },\n",
    "    '3': {\n",
    "        'name': 'Bishop'\n",
    "    },\n",
    "    '4': {\n",
    "        'name': 'Queen'\n",
    "    },\n",
    "    '5': {\n",
    "        'name': 'King'\n",
    "    },\n",
    "    '6': {\n",
    "        'name': 'Bishop'\n",
    "    },\n",
    "    '9': {\n",
    "        'name': 'BPawn'\n",
    "    },\n",
    "    '11': {\n",
    "        'name': 'Rook'\n",
    "    },\n",
    "    '12': {\n",
    "        'name': 'Knight'\n",
    "    },\n",
    "    '13': {\n",
    "        'name': 'Bishop'\n",
    "    },\n",
    "    '14': {\n",
    "        'name': 'Queen'\n",
    "    },\n",
    "    '15': {\n",
    "        'name': 'King'\n",
    "    },\n",
    "    '16': {\n",
    "        'name': 'Bishop'\n",
    "    },\n",
    "    '10': {\n",
    "        'name': 'WPawn'\n",
    "    },\n",
    "}"
   ]
  },
  {
   "cell_type": "code",
   "execution_count": 35,
   "id": "revolutionary-louis",
   "metadata": {},
   "outputs": [],
   "source": [
    "##Create Helper Functions for visualizations\n",
    "def printMatrix(arr):\n",
    "    string = \"\"\n",
    "    for i in range(1,65):\n",
    "        string += translation(arr[i-1]) + ' '\n",
    "        if (i%8 == 0):\n",
    "            print(string)\n",
    "            string= \"\"\n",
    "def translation(intval):\n",
    "    if intval == 0:\n",
    "        return '_'\n",
    "    elif intval == 1:\n",
    "        return 'R'\n",
    "    elif intval == 2:\n",
    "        return 'K'\n",
    "    elif intval == 3:\n",
    "        return 'B'\n",
    "    elif intval ==4:\n",
    "        return 'Q'\n",
    "    elif intval == 5:\n",
    "        return 'K'\n",
    "    elif intval == 6:\n",
    "        return 'B'\n",
    "    elif intval == 9:\n",
    "        return 'C'\n",
    "    elif intval == 10:\n",
    "        return 'N'\n",
    "    elif intval == 11:\n",
    "        return 'R'\n",
    "    elif intval == 12:\n",
    "        return 'K'\n",
    "    elif intval == 13:\n",
    "        return 'B'\n",
    "    elif intval == 14:\n",
    "        return 'Q'\n",
    "    elif intval == 15:\n",
    "        return 'K'\n",
    "    elif intval == 16:\n",
    "        return 'B'"
   ]
  },
  {
   "cell_type": "code",
   "execution_count": 42,
   "id": "union-representative",
   "metadata": {},
   "outputs": [
    {
     "name": "stdout",
     "output_type": "stream",
     "text": [
      "R K B Q K B K R \n",
      "C C C C C C C C \n",
      "_ _ _ _ _ _ _ _ \n",
      "_ _ _ _ _ _ _ _ \n",
      "_ _ _ _ _ _ _ _ \n",
      "_ _ _ N _ _ _ _ \n",
      "N N N _ N N N N \n",
      "R K B Q K B K R \n"
     ]
    }
   ],
   "source": [
    "printMatrix(sampleBoard)"
   ]
  },
  {
   "cell_type": "code",
   "execution_count": 49,
   "id": "urban-smile",
   "metadata": {},
   "outputs": [],
   "source": [
    "#Create 'Attack Functions'\n",
    "def rook(index, weight = 1):\n",
    "    baseline = np.zeros((8,8), dtype=np.int)\n",
    "    x = index[0]\n",
    "    y = index[1]\n",
    "    for i in range(0,8):\n",
    "        try:\n",
    "            baseline[x,i] = weight\n",
    "        except:\n",
    "            pass\n",
    "    for i in range(0,8):\n",
    "        try:\n",
    "            baseline[i,y] = weight\n",
    "        except:\n",
    "            pass\n",
    "    baseline[x,y] = 0\n",
    "    \n",
    "    return baseline\n",
    "            "
   ]
  },
  {
   "cell_type": "code",
   "execution_count": 86,
   "id": "chubby-spank",
   "metadata": {},
   "outputs": [],
   "source": [
    "def bishop(index, weight = 1):\n",
    "    baseline = np.zeros((8,8), dtype=np.int)\n",
    "    x = index[0]\n",
    "    y = index[1]\n",
    "    for i in range (0,8):\n",
    "        try:\n",
    "            baseline[x-i,y-i] = weight\n",
    "        except:\n",
    "            pass\n",
    "    for i in range (0,8):\n",
    "        try:\n",
    "            baseline[x-i, y+i] = weight\n",
    "            pass\n",
    "        except:\n",
    "            pass\n",
    "        \n",
    "    for i in range (0,8):\n",
    "        try:\n",
    "            baseline[x+i, y-i] = weight\n",
    "            pass\n",
    "        except:\n",
    "            pass\n",
    "    baseline[x,y] = 0\n",
    "    return baseline\n",
    "    "
   ]
  },
  {
   "cell_type": "code",
   "execution_count": 87,
   "id": "immediate-large",
   "metadata": {},
   "outputs": [
    {
     "name": "stdout",
     "output_type": "stream",
     "text": [
      "[[1 0 0 0 0 0 1 0]\n",
      " [0 1 0 0 0 1 0 0]\n",
      " [0 0 1 0 1 0 0 0]\n",
      " [0 0 0 0 0 0 0 0]\n",
      " [0 0 1 0 1 0 0 0]\n",
      " [0 1 0 0 0 1 0 0]\n",
      " [1 0 0 0 0 0 1 0]\n",
      " [0 0 0 0 0 0 0 1]]\n"
     ]
    }
   ],
   "source": [
    "print(bishop((3,3)))"
   ]
  },
  {
   "cell_type": "code",
   "execution_count": null,
   "id": "explicit-delay",
   "metadata": {},
   "outputs": [],
   "source": []
  }
 ],
 "metadata": {
  "kernelspec": {
   "display_name": "Python 3",
   "language": "python",
   "name": "python3"
  },
  "language_info": {
   "codemirror_mode": {
    "name": "ipython",
    "version": 3
   },
   "file_extension": ".py",
   "mimetype": "text/x-python",
   "name": "python",
   "nbconvert_exporter": "python",
   "pygments_lexer": "ipython3",
   "version": "3.8.10"
  }
 },
 "nbformat": 4,
 "nbformat_minor": 5
}
