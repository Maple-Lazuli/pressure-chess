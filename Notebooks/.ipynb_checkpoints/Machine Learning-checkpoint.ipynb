{
 "cells": [
  {
   "cell_type": "code",
   "execution_count": 193,
   "id": "furnished-schema",
   "metadata": {},
   "outputs": [],
   "source": [
    "import tensorflow as tf\n",
    "import pandas as pd\n",
    "import numpy as np"
   ]
  },
  {
   "cell_type": "code",
   "execution_count": 194,
   "id": "protecting-exclusive",
   "metadata": {},
   "outputs": [],
   "source": [
    "df = pd.read_pickle('2018_1000.pkl')\n",
    "df = df[df['winner'] != '1/2']"
   ]
  },
  {
   "cell_type": "code",
   "execution_count": 195,
   "id": "liked-stewart",
   "metadata": {},
   "outputs": [],
   "source": [
    "layouts = df['layout'].to_list()\n",
    "fix = np.dstack(layouts)\n",
    "fix = np.rollaxis(fix,-1)\n",
    "target = df['winner'].astype('int')"
   ]
  },
  {
   "cell_type": "code",
   "execution_count": 196,
   "id": "typical-compound",
   "metadata": {},
   "outputs": [],
   "source": [
    "from sklearn.model_selection import train_test_split\n",
    "x_train, x_test, y_train, y_test = train_test_split(fix,target, test_size=0.2)"
   ]
  },
  {
   "cell_type": "code",
   "execution_count": 197,
   "id": "annoying-opposition",
   "metadata": {},
   "outputs": [
    {
     "data": {
      "text/plain": [
       "(50990, 8, 8)"
      ]
     },
     "execution_count": 197,
     "metadata": {},
     "output_type": "execute_result"
    }
   ],
   "source": [
    "x_train.shape"
   ]
  },
  {
   "cell_type": "code",
   "execution_count": 209,
   "id": "proud-supplement",
   "metadata": {},
   "outputs": [
    {
     "name": "stdout",
     "output_type": "stream",
     "text": [
      "Model: \"model_24\"\n",
      "_________________________________________________________________\n",
      "Layer (type)                 Output Shape              Param #   \n",
      "=================================================================\n",
      "input_35 (InputLayer)        [(None, 8, 8)]            0         \n",
      "_________________________________________________________________\n",
      "lstm_35 (LSTM)               (None, 8, 512)            1067008   \n",
      "_________________________________________________________________\n",
      "global_max_pooling1d_34 (Glo (None, 512)               0         \n",
      "_________________________________________________________________\n",
      "dense_77 (Dense)             (None, 512)               262656    \n",
      "_________________________________________________________________\n",
      "dropout_49 (Dropout)         (None, 512)               0         \n",
      "_________________________________________________________________\n",
      "dense_78 (Dense)             (None, 512)               262656    \n",
      "_________________________________________________________________\n",
      "dropout_50 (Dropout)         (None, 512)               0         \n",
      "_________________________________________________________________\n",
      "dense_79 (Dense)             (None, 512)               262656    \n",
      "_________________________________________________________________\n",
      "dropout_51 (Dropout)         (None, 512)               0         \n",
      "_________________________________________________________________\n",
      "dense_80 (Dense)             (None, 512)               262656    \n",
      "_________________________________________________________________\n",
      "dropout_52 (Dropout)         (None, 512)               0         \n",
      "_________________________________________________________________\n",
      "dense_81 (Dense)             (None, 1)                 513       \n",
      "=================================================================\n",
      "Total params: 2,118,145\n",
      "Trainable params: 2,118,145\n",
      "Non-trainable params: 0\n",
      "_________________________________________________________________\n",
      "Epoch 1/20\n",
      "1594/1594 [==============================] - 48s 29ms/step - loss: 0.6874 - accuracy: 0.5565 - val_loss: 0.6890 - val_accuracy: 0.5478\n",
      "Epoch 2/20\n",
      "1594/1594 [==============================] - 41s 26ms/step - loss: 0.6865 - accuracy: 0.5580 - val_loss: 0.6860 - val_accuracy: 0.5478\n",
      "Epoch 3/20\n",
      "1594/1594 [==============================] - 40s 25ms/step - loss: 0.6753 - accuracy: 0.5776 - val_loss: 0.6600 - val_accuracy: 0.6022\n",
      "Epoch 4/20\n",
      "1594/1594 [==============================] - 42s 26ms/step - loss: 0.6413 - accuracy: 0.6296 - val_loss: 0.6212 - val_accuracy: 0.6469\n",
      "Epoch 5/20\n",
      "1594/1594 [==============================] - 43s 27ms/step - loss: 0.5857 - accuracy: 0.6880 - val_loss: 0.5548 - val_accuracy: 0.7091\n",
      "Epoch 6/20\n",
      "1594/1594 [==============================] - 42s 26ms/step - loss: 0.5102 - accuracy: 0.7423 - val_loss: 0.4922 - val_accuracy: 0.7520\n",
      "Epoch 7/20\n",
      "1594/1594 [==============================] - 42s 26ms/step - loss: 0.4284 - accuracy: 0.7921 - val_loss: 0.4713 - val_accuracy: 0.7473\n",
      "Epoch 8/20\n",
      "1594/1594 [==============================] - 50s 31ms/step - loss: 0.3597 - accuracy: 0.8279 - val_loss: 0.3919 - val_accuracy: 0.8104\n",
      "Epoch 9/20\n",
      "1594/1594 [==============================] - 46s 29ms/step - loss: 0.3035 - accuracy: 0.8539 - val_loss: 0.3781 - val_accuracy: 0.8261\n",
      "Epoch 10/20\n",
      "1594/1594 [==============================] - 47s 29ms/step - loss: 0.2626 - accuracy: 0.8740 - val_loss: 0.3981 - val_accuracy: 0.8387\n",
      "Epoch 11/20\n",
      "1594/1594 [==============================] - 47s 29ms/step - loss: 0.2283 - accuracy: 0.8911 - val_loss: 0.3047 - val_accuracy: 0.8607\n",
      "Epoch 12/20\n",
      "1594/1594 [==============================] - 46s 29ms/step - loss: 0.2068 - accuracy: 0.8989 - val_loss: 0.3383 - val_accuracy: 0.8604\n",
      "Epoch 13/20\n",
      "1594/1594 [==============================] - 46s 29ms/step - loss: 0.1914 - accuracy: 0.9057 - val_loss: 0.3597 - val_accuracy: 0.8632\n",
      "Epoch 14/20\n",
      "1594/1594 [==============================] - 47s 29ms/step - loss: 0.1787 - accuracy: 0.9126 - val_loss: 0.3172 - val_accuracy: 0.8717\n",
      "Epoch 15/20\n",
      "1594/1594 [==============================] - 47s 30ms/step - loss: 0.1670 - accuracy: 0.9165 - val_loss: 0.3065 - val_accuracy: 0.8735\n",
      "Epoch 16/20\n",
      "1594/1594 [==============================] - 47s 30ms/step - loss: 0.1613 - accuracy: 0.9203 - val_loss: 0.3041 - val_accuracy: 0.8772\n",
      "Epoch 17/20\n",
      "1594/1594 [==============================] - 46s 29ms/step - loss: 0.1534 - accuracy: 0.9233 - val_loss: 0.3646 - val_accuracy: 0.8699\n",
      "Epoch 18/20\n",
      "1594/1594 [==============================] - 48s 30ms/step - loss: 0.1483 - accuracy: 0.9265 - val_loss: 0.3338 - val_accuracy: 0.8669\n",
      "Epoch 19/20\n",
      "1594/1594 [==============================] - 47s 29ms/step - loss: 0.1416 - accuracy: 0.9289 - val_loss: 0.2935 - val_accuracy: 0.8798\n",
      "Epoch 20/20\n",
      "1594/1594 [==============================] - 48s 30ms/step - loss: 0.1379 - accuracy: 0.9315 - val_loss: 0.3111 - val_accuracy: 0.8795\n"
     ]
    }
   ],
   "source": [
    "from tensorflow.keras.layers import Input, SimpleRNN, GRU, LSTM, Dense, Flatten, GlobalMaxPool1D, Dropout\n",
    "from tensorflow.keras.models import Model\n",
    "from tensorflow.keras.optimizers import SGD, Adam\n",
    "i = Input(shape=x_train[0].shape)\n",
    "x = LSTM(512, return_sequences=True)(i) #number of hidden units. This is one of the parameters that are guessed/experimented with\n",
    "x = GlobalMaxPool1D()(x)\n",
    "x = Dense(512, activation = 'relu')(x)\n",
    "x = Dropout(0.3)(x)\n",
    "x = Dense(512, activation = 'relu')(x)\n",
    "x = Dropout(0.3)(x)\n",
    "x = Dense(512, activation = 'relu')(x)\n",
    "x = Dropout(0.3)(x)\n",
    "x = Dense(512, activation = 'relu')(x)\n",
    "x = Dropout(0.5)(x)\n",
    "x = Dense(1, activation='sigmoid')(x)\n",
    "model = Model(i, x)\n",
    "model.summary()\n",
    "model.compile(optimizer='adam',\n",
    "              loss='binary_crossentropy',\n",
    "              metrics=['accuracy'])\n",
    "r = model.fit(x_train, y_train, validation_data=(x_test, y_test), epochs=20)"
   ]
  },
  {
   "cell_type": "code",
   "execution_count": 210,
   "id": "treated-unemployment",
   "metadata": {},
   "outputs": [
    {
     "data": {
      "text/plain": [
       "<matplotlib.legend.Legend at 0x7f981f7e55e0>"
      ]
     },
     "execution_count": 210,
     "metadata": {},
     "output_type": "execute_result"
    },
    {
     "data": {
      "image/png": "[encoded data removed]",
      "text/plain": [
       "<Figure size 432x288 with 1 Axes>"
      ]
     },
     "metadata": {
      "needs_background": "light"
     },
     "output_type": "display_data"
    }
   ],
   "source": [
    "# Plot loss per iteration\n",
    "import matplotlib.pyplot as plt\n",
    "plt.plot(r.history['loss'], label='loss')\n",
    "plt.plot(r.history['val_loss'], label='val_loss')\n",
    "plt.legend()"
   ]
  },
  {
   "cell_type": "code",
   "execution_count": 211,
   "id": "quantitative-passenger",
   "metadata": {},
   "outputs": [
    {
     "data": {
      "text/plain": [
       "<matplotlib.legend.Legend at 0x7f981faf5ac0>"
      ]
     },
     "execution_count": 211,
     "metadata": {},
     "output_type": "execute_result"
    },
    {
     "data": {
      "image/png": "[encoded data removed]",
      "text/plain": [
       "<Figure size 432x288 with 1 Axes>"
      ]
     },
     "metadata": {
      "needs_background": "light"
     },
     "output_type": "display_data"
    }
   ],
   "source": [
    "# Plot accuracy per iteration\n",
    "plt.plot(r.history['accuracy'], label='acc')\n",
    "plt.plot(r.history['val_accuracy'], label='val_acc')\n",
    "plt.legend()"
   ]
  },
  {
   "cell_type": "code",
   "execution_count": null,
   "id": "directed-treaty",
   "metadata": {},
   "outputs": [],
   "source": []
  }
 ],
 "metadata": {
  "kernelspec": {
   "display_name": "Python 3",
   "language": "python",
   "name": "python3"
  },
  "language_info": {
   "codemirror_mode": {
    "name": "ipython",
    "version": 3
   },
   "file_extension": ".py",
   "mimetype": "text/x-python",
   "name": "python",
   "nbconvert_exporter": "python",
   "pygments_lexer": "ipython3",
   "version": "3.8.10"
  }
 },
 "nbformat": 4,
 "nbformat_minor": 5
}
