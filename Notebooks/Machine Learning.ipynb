{
 "cells": [
  {
   "cell_type": "code",
   "execution_count": 10,
   "id": "norwegian-contrast",
   "metadata": {},
   "outputs": [],
   "source": [
    "import tensorflow as tf\n",
    "import pandas as pd\n",
    "import numpy as np"
   ]
  },
  {
   "cell_type": "code",
   "execution_count": 11,
   "id": "cordless-direction",
   "metadata": {},
   "outputs": [],
   "source": [
    "df = pd.read_pickle('2018_5000.pkl')\n",
    "df = df[df['winner'] != '1/2']"
   ]
  },
  {
   "cell_type": "code",
   "execution_count": 12,
   "id": "primary-reset",
   "metadata": {},
   "outputs": [],
   "source": [
    "layouts = df['layout'].to_list()\n",
    "fix = np.dstack(layouts)\n",
    "fix = np.rollaxis(fix,-1)\n",
    "target = df['winner'].astype('int')"
   ]
  },
  {
   "cell_type": "code",
   "execution_count": 13,
   "id": "ancient-alfred",
   "metadata": {},
   "outputs": [],
   "source": [
    "from sklearn.model_selection import train_test_split\n",
    "x_train, x_test, y_train, y_test = train_test_split(fix,target, test_size=0.2)"
   ]
  },
  {
   "cell_type": "code",
   "execution_count": 14,
   "id": "considerable-order",
   "metadata": {},
   "outputs": [
    {
     "data": {
      "text/plain": [
       "(241248, 8, 8)"
      ]
     },
     "execution_count": 14,
     "metadata": {},
     "output_type": "execute_result"
    }
   ],
   "source": [
    "x_train.shape"
   ]
  },
  {
   "cell_type": "code",
   "execution_count": null,
   "id": "decent-speech",
   "metadata": {},
   "outputs": [
    {
     "name": "stdout",
     "output_type": "stream",
     "text": [
      "Model: \"model_1\"\n",
      "_________________________________________________________________\n",
      "Layer (type)                 Output Shape              Param #   \n",
      "=================================================================\n",
      "input_2 (InputLayer)         [(None, 8, 8)]            0         \n",
      "_________________________________________________________________\n",
      "lstm_1 (LSTM)                (None, 8, 512)            1067008   \n",
      "_________________________________________________________________\n",
      "global_max_pooling1d_1 (Glob (None, 512)               0         \n",
      "_________________________________________________________________\n",
      "dense_5 (Dense)              (None, 512)               262656    \n",
      "_________________________________________________________________\n",
      "dropout_4 (Dropout)          (None, 512)               0         \n",
      "_________________________________________________________________\n",
      "dense_6 (Dense)              (None, 512)               262656    \n",
      "_________________________________________________________________\n",
      "dropout_5 (Dropout)          (None, 512)               0         \n",
      "_________________________________________________________________\n",
      "dense_7 (Dense)              (None, 1)                 513       \n",
      "=================================================================\n",
      "Total params: 1,592,833\n",
      "Trainable params: 1,592,833\n",
      "Non-trainable params: 0\n",
      "_________________________________________________________________\n",
      "Epoch 1/20\n",
      "7539/7539 [==============================] - 153s 20ms/step - loss: 0.6888 - accuracy: 0.5373 - val_loss: 0.6835 - val_accuracy: 0.5568\n",
      "Epoch 2/20\n",
      "7539/7539 [==============================] - 169s 22ms/step - loss: 0.6760 - accuracy: 0.5742 - val_loss: 0.6680 - val_accuracy: 0.5908\n",
      "Epoch 3/20\n",
      "7539/7539 [==============================] - 193s 26ms/step - loss: 0.6561 - accuracy: 0.6065 - val_loss: 0.6477 - val_accuracy: 0.6109\n",
      "Epoch 4/20\n",
      "3856/7539 [==============>...............] - ETA: 1:13 - loss: 0.6371 - accuracy: 0.6274"
     ]
    }
   ],
   "source": [
    "from tensorflow.keras.layers import Input, SimpleRNN, GRU, LSTM, Dense, Flatten, GlobalMaxPool1D, Dropout\n",
    "from tensorflow.keras.models import Model\n",
    "from tensorflow.keras.optimizers import SGD, Adam\n",
    "i = Input(shape=x_train[0].shape)\n",
    "x = LSTM(512, return_sequences=True)(i) #number of hidden units. This is one of the parameters that are guessed/experimented with\n",
    "x = GlobalMaxPool1D()(x)\n",
    "x = Dense(512, activation = 'relu')(x)\n",
    "x = Dropout(0.2)(x)\n",
    "x = Dense(512, activation = 'relu')(x)\n",
    "x = Dropout(0.3)(x)\n",
    "x = Dense(1, activation='sigmoid')(x)\n",
    "model = Model(i, x)\n",
    "model.summary()\n",
    "model.compile(optimizer='adam',\n",
    "              loss='binary_crossentropy',\n",
    "              metrics=['accuracy'])\n",
    "r = model.fit(x_train, y_train, validation_data=(x_test, y_test), epochs=20)"
   ]
  },
  {
   "cell_type": "code",
   "execution_count": null,
   "id": "renewable-electricity",
   "metadata": {},
   "outputs": [],
   "source": [
    "# Plot loss per iteration\n",
    "import matplotlib.pyplot as plt\n",
    "plt.plot(r.history['loss'], label='loss')\n",
    "plt.plot(r.history['val_loss'], label='val_loss')\n",
    "plt.legend()"
   ]
  },
  {
   "cell_type": "code",
   "execution_count": null,
   "id": "fundamental-digit",
   "metadata": {},
   "outputs": [],
   "source": [
    "# Plot accuracy per iteration\n",
    "plt.plot(r.history['accuracy'], label='acc')\n",
    "plt.plot(r.history['val_accuracy'], label='val_acc')\n",
    "plt.legend()"
   ]
  },
  {
   "cell_type": "code",
   "execution_count": null,
   "id": "arranged-revolution",
   "metadata": {},
   "outputs": [],
   "source": [
    "model.save('chess_5000_2.h5')"
   ]
  },
  {
   "cell_type": "code",
   "execution_count": null,
   "id": "phantom-murder",
   "metadata": {},
   "outputs": [],
   "source": []
  }
 ],
 "metadata": {
  "kernelspec": {
   "display_name": "Python 3",
   "language": "python",
   "name": "python3"
  },
  "language_info": {
   "codemirror_mode": {
    "name": "ipython",
    "version": 3
   },
   "file_extension": ".py",
   "mimetype": "text/x-python",
   "name": "python",
   "nbconvert_exporter": "python",
   "pygments_lexer": "ipython3",
   "version": "3.8.10"
  }
 },
 "nbformat": 4,
 "nbformat_minor": 5
}
